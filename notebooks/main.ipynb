{
 "cells": [
  {
   "metadata": {},
   "cell_type": "markdown",
   "source": "Import functions",
   "id": "b2859de70933d39a"
  },
  {
   "metadata": {
    "ExecuteTime": {
     "end_time": "2024-12-14T21:42:59.823332Z",
     "start_time": "2024-12-14T21:42:58.218922Z"
    }
   },
   "cell_type": "code",
   "source": [
    "import gc\n",
    "\n",
    "from src.loaders.data_loader import load_energy_efficiency_dataset\n",
    "from src.transformers.data_transformer import transform_energy_efficiency_dataset"
   ],
   "id": "30dd091d260d5cea",
   "outputs": [],
   "execution_count": 1
  },
  {
   "metadata": {},
   "cell_type": "markdown",
   "source": "Import dataset",
   "id": "4b873062c8cadc38"
  },
  {
   "metadata": {
    "ExecuteTime": {
     "end_time": "2024-12-14T21:43:03.203054Z",
     "start_time": "2024-12-14T21:42:59.832344Z"
    }
   },
   "cell_type": "code",
   "source": "features_df, targets_df = load_energy_efficiency_dataset()",
   "id": "fa35667f6ac99ae5",
   "outputs": [],
   "execution_count": 2
  },
  {
   "metadata": {
    "ExecuteTime": {
     "end_time": "2024-12-14T21:43:03.331945Z",
     "start_time": "2024-12-14T21:43:03.302217Z"
    }
   },
   "cell_type": "code",
   "source": "features_df.sample(n=3, random_state=123)",
   "id": "10f3baf12056965d",
   "outputs": [
    {
     "data": {
      "text/plain": [
       "     Relative_Compactness  Surface_Area  Wall_Area  Roof_Area  Overall_Height  \\\n",
       "236                  0.62         808.5      367.5      220.5             3.5   \n",
       "395                  0.86         588.0      294.0      147.0             7.0   \n",
       "36                   0.66         759.5      318.5      220.5             3.5   \n",
       "\n",
       "     Orientation  Glazing_Area  Glazing_Area_Distribution  \n",
       "236          2.0          0.10                        4.0  \n",
       "395          5.0          0.25                        3.0  \n",
       "36           2.0          0.00                        0.0  "
      ],
      "text/html": [
       "<div>\n",
       "<style scoped>\n",
       "    .dataframe tbody tr th:only-of-type {\n",
       "        vertical-align: middle;\n",
       "    }\n",
       "\n",
       "    .dataframe tbody tr th {\n",
       "        vertical-align: top;\n",
       "    }\n",
       "\n",
       "    .dataframe thead th {\n",
       "        text-align: right;\n",
       "    }\n",
       "</style>\n",
       "<table border=\"1\" class=\"dataframe\">\n",
       "  <thead>\n",
       "    <tr style=\"text-align: right;\">\n",
       "      <th></th>\n",
       "      <th>Relative_Compactness</th>\n",
       "      <th>Surface_Area</th>\n",
       "      <th>Wall_Area</th>\n",
       "      <th>Roof_Area</th>\n",
       "      <th>Overall_Height</th>\n",
       "      <th>Orientation</th>\n",
       "      <th>Glazing_Area</th>\n",
       "      <th>Glazing_Area_Distribution</th>\n",
       "    </tr>\n",
       "  </thead>\n",
       "  <tbody>\n",
       "    <tr>\n",
       "      <th>236</th>\n",
       "      <td>0.62</td>\n",
       "      <td>808.5</td>\n",
       "      <td>367.5</td>\n",
       "      <td>220.5</td>\n",
       "      <td>3.5</td>\n",
       "      <td>2.0</td>\n",
       "      <td>0.10</td>\n",
       "      <td>4.0</td>\n",
       "    </tr>\n",
       "    <tr>\n",
       "      <th>395</th>\n",
       "      <td>0.86</td>\n",
       "      <td>588.0</td>\n",
       "      <td>294.0</td>\n",
       "      <td>147.0</td>\n",
       "      <td>7.0</td>\n",
       "      <td>5.0</td>\n",
       "      <td>0.25</td>\n",
       "      <td>3.0</td>\n",
       "    </tr>\n",
       "    <tr>\n",
       "      <th>36</th>\n",
       "      <td>0.66</td>\n",
       "      <td>759.5</td>\n",
       "      <td>318.5</td>\n",
       "      <td>220.5</td>\n",
       "      <td>3.5</td>\n",
       "      <td>2.0</td>\n",
       "      <td>0.00</td>\n",
       "      <td>0.0</td>\n",
       "    </tr>\n",
       "  </tbody>\n",
       "</table>\n",
       "</div>"
      ]
     },
     "execution_count": 3,
     "metadata": {},
     "output_type": "execute_result"
    }
   ],
   "execution_count": 3
  },
  {
   "metadata": {
    "ExecuteTime": {
     "end_time": "2024-12-14T21:43:03.470492Z",
     "start_time": "2024-12-14T21:43:03.451458Z"
    }
   },
   "cell_type": "code",
   "source": "targets_df.sample(n=3, random_state=123)",
   "id": "aaf04316e80ca702",
   "outputs": [
    {
     "data": {
      "text/plain": [
       "     Heating_Load  Cooling_Load\n",
       "236         12.85         14.37\n",
       "395         29.07         29.82\n",
       "36           7.18         12.40"
      ],
      "text/html": [
       "<div>\n",
       "<style scoped>\n",
       "    .dataframe tbody tr th:only-of-type {\n",
       "        vertical-align: middle;\n",
       "    }\n",
       "\n",
       "    .dataframe tbody tr th {\n",
       "        vertical-align: top;\n",
       "    }\n",
       "\n",
       "    .dataframe thead th {\n",
       "        text-align: right;\n",
       "    }\n",
       "</style>\n",
       "<table border=\"1\" class=\"dataframe\">\n",
       "  <thead>\n",
       "    <tr style=\"text-align: right;\">\n",
       "      <th></th>\n",
       "      <th>Heating_Load</th>\n",
       "      <th>Cooling_Load</th>\n",
       "    </tr>\n",
       "  </thead>\n",
       "  <tbody>\n",
       "    <tr>\n",
       "      <th>236</th>\n",
       "      <td>12.85</td>\n",
       "      <td>14.37</td>\n",
       "    </tr>\n",
       "    <tr>\n",
       "      <th>395</th>\n",
       "      <td>29.07</td>\n",
       "      <td>29.82</td>\n",
       "    </tr>\n",
       "    <tr>\n",
       "      <th>36</th>\n",
       "      <td>7.18</td>\n",
       "      <td>12.40</td>\n",
       "    </tr>\n",
       "  </tbody>\n",
       "</table>\n",
       "</div>"
      ]
     },
     "execution_count": 4,
     "metadata": {},
     "output_type": "execute_result"
    }
   ],
   "execution_count": 4
  },
  {
   "metadata": {},
   "cell_type": "markdown",
   "source": "Feature engineering",
   "id": "6d8918f31f303685"
  },
  {
   "metadata": {
    "ExecuteTime": {
     "end_time": "2024-12-14T21:43:03.550816Z",
     "start_time": "2024-12-14T21:43:03.533849Z"
    }
   },
   "cell_type": "code",
   "source": [
    "data_dict = transform_energy_efficiency_dataset(\n",
    "    features_df=features_df,\n",
    "    targets_df=targets_df\n",
    ")"
   ],
   "id": "d757d55f9f343d65",
   "outputs": [],
   "execution_count": 5
  },
  {
   "metadata": {
    "ExecuteTime": {
     "end_time": "2024-12-14T21:43:03.684369Z",
     "start_time": "2024-12-14T21:43:03.679261Z"
    }
   },
   "cell_type": "code",
   "source": [
    "scaled_train_features_df = data_dict[\"train\"][\"features\"]\n",
    "scaled_test_features_df = data_dict[\"test\"][\"features\"]\n",
    "scaled_val_features_df = data_dict[\"val\"][\"features\"]\n",
    "\n",
    "train_targets_df = data_dict[\"train\"][\"targets\"]\n",
    "test_targets_df = data_dict[\"test\"][\"targets\"]\n",
    "val_targets_df = data_dict[\"val\"][\"targets\"]"
   ],
   "id": "3ef0a3e670421b7a",
   "outputs": [],
   "execution_count": 6
  },
  {
   "metadata": {
    "ExecuteTime": {
     "end_time": "2024-12-14T21:43:03.788115Z",
     "start_time": "2024-12-14T21:43:03.733388Z"
    }
   },
   "cell_type": "code",
   "source": [
    "del features_df, targets_df, data_dict\n",
    "gc.collect()"
   ],
   "id": "2dce1c4820cf07",
   "outputs": [
    {
     "data": {
      "text/plain": [
       "12"
      ]
     },
     "execution_count": 7,
     "metadata": {},
     "output_type": "execute_result"
    }
   ],
   "execution_count": 7
  },
  {
   "metadata": {},
   "cell_type": "markdown",
   "source": "Data analysis",
   "id": "bf402f0d73ec9bef"
  },
  {
   "metadata": {
    "ExecuteTime": {
     "end_time": "2024-12-14T21:43:03.908970Z",
     "start_time": "2024-12-14T21:43:03.902009Z"
    }
   },
   "cell_type": "code",
   "source": "",
   "id": "3faf47bf2260d663",
   "outputs": [],
   "execution_count": null
  }
 ],
 "metadata": {
  "kernelspec": {
   "display_name": "Python 3",
   "language": "python",
   "name": "python3"
  },
  "language_info": {
   "codemirror_mode": {
    "name": "ipython",
    "version": 2
   },
   "file_extension": ".py",
   "mimetype": "text/x-python",
   "name": "python",
   "nbconvert_exporter": "python",
   "pygments_lexer": "ipython2",
   "version": "2.7.6"
  }
 },
 "nbformat": 4,
 "nbformat_minor": 5
}
